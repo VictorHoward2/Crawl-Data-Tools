{
 "cells": [
  {
   "cell_type": "code",
   "execution_count": 8,
   "metadata": {},
   "outputs": [],
   "source": [
    "from selenium import webdriver\n",
    "from selenium.webdriver.common.keys import Keys\n",
    "from selenium.webdriver.common.by import By\n",
    "from selenium.common.exceptions import NoSuchElementException\n",
    "from selenium.webdriver.edge.options import Options\n",
    "import csv\n",
    "import pandas as pd\n",
    "import os\n",
    "import requests\n",
    "import re\n",
    "import time"
   ]
  },
  {
   "cell_type": "code",
   "execution_count": 9,
   "metadata": {},
   "outputs": [],
   "source": [
    "driver = webdriver.Edge()"
   ]
  },
  {
   "cell_type": "code",
   "execution_count": 44,
   "metadata": {},
   "outputs": [],
   "source": [
    "# Chỉnh lại vị trí lưu khóa học\n",
    "PATH0 = \"C:\\\\Users\\\\victo\\\\Downloads\\\\Coursera\"\n",
    "\n",
    "# Chỉnh lại link của bài đầu tiên trong khóa học\n",
    "# có thể sẽ cần đăng nhập bằng tay ở bước này để qua xác nhận không phải robot\n",
    "# nếu bị lỗi thì thay đổi lại đường link ở đây bằng bài học cần tải\n",
    "driver.get(\"https://www.coursera.org/learn/agile-atlassian-jira/supplement/Oy2DU/welcome\")"
   ]
  },
  {
   "cell_type": "code",
   "execution_count": 56,
   "metadata": {},
   "outputs": [
    {
     "name": "stdout",
     "output_type": "stream",
     "text": [
      "Tải xuống thành công tại: C:\\Users\\victo\\Downloads\\Coursera\\Module 4\\Module 4 Assessment\\Module 4 Assessment.html\n",
      "1\n",
      "Đã tìm hết tất cả các trang!\n"
     ]
    }
   ],
   "source": [
    "PATH = \"\"\n",
    "MODULE = \"\"\n",
    "LESSON = \"\"\n",
    "\n",
    "def clean_path(path):\n",
    "        forbidden_chars = r'[<>:\"/\\\\|?*.]'\n",
    "        clean_path = re.sub(forbidden_chars, '', path)\n",
    "        return clean_path\n",
    "\n",
    "def getPath():\n",
    "    MODULE = \"\"\n",
    "    LESSON = \"\"\n",
    "    PATH = PATH0\n",
    "\n",
    "    elem = driver.find_element(By.CLASS_NAME, \"rc-ItemNavBreadcrumbs\")\n",
    "    links = elem.find_elements(By.TAG_NAME, \"a\")\n",
    "    MODULE = links[1].text\n",
    "    LESSON = links[2].text\n",
    "\n",
    "    MODULE = clean_path(MODULE)\n",
    "    LESSON = clean_path(LESSON)\n",
    "\n",
    "    PATH = PATH + \"\\\\\" + MODULE + \"\\\\\" + LESSON\n",
    "    return PATH, MODULE, LESSON\n",
    "\n",
    "def download_file(url, file_name, PATH):\n",
    "    if not os.path.exists(PATH):\n",
    "        os.makedirs(PATH)\n",
    "    \n",
    "    file_path = os.path.join(PATH, file_name)\n",
    "    response = requests.get(url, stream=\"mp4\" in url)\n",
    "    \n",
    "    if response.status_code == 200:\n",
    "        mode = \"wb\"\n",
    "        with open(file_path, mode) as file:\n",
    "            if \"mp4\" in url:\n",
    "                for chunk in response.iter_content(chunk_size=1024):\n",
    "                    if chunk:\n",
    "                        file.write(chunk)\n",
    "            else:\n",
    "                file.write(response.content)\n",
    "        print(f\"Tải xuống thành công tại: {file_path}\")\n",
    "    else:\n",
    "        print(f\"Không thể tải xuống file. Lỗi HTTP {response.status_code}\")\n",
    "\n",
    "def download_html(url, file_name, PATH):\n",
    "    html_content = driver.page_source\n",
    "\n",
    "    if not os.path.exists(PATH):\n",
    "        os.makedirs(PATH)\n",
    "\n",
    "    file_path = os.path.join(PATH, file_name)\n",
    "    response = requests.get(url, stream=\"mp4\" in url)\n",
    "\n",
    "    with open(file_path, \"w\", encoding=\"utf-8\") as file:\n",
    "        file.write(html_content)\n",
    "    print(f\"Tải xuống thành công tại: {file_path}\")\n",
    "\n",
    "try:\n",
    "    while(1):\n",
    "        PATH, MODULE, LESSON = getPath()\n",
    "        \n",
    "        try:\n",
    "            elem = driver.find_element(By.CLASS_NAME, \"item-page-content\")\n",
    "            \n",
    "            try:\n",
    "                elem.find_element(By.CLASS_NAME, \"cml-asset.cml-asset-pdf.cml-nonmedia-asset\")\n",
    "                link = elem.find_element(By.TAG_NAME, \"a\").get_attribute(\"href\")\n",
    "                download_file(link, f\"{LESSON}.pdf\", PATH)\n",
    "\n",
    "                elems = driver.find_elements(By.CLASS_NAME, \"cds-button-label\")\n",
    "                elem = next((e for e in elems if \"Next\" in e.text), elems[0])\n",
    "                elem.click()\n",
    "                time.sleep(3)\n",
    "            except:\n",
    "                download_html(link, f\"{LESSON}.html\", PATH)\n",
    "                elems = driver.find_elements(By.CLASS_NAME, \"cds-button-label\")\n",
    "                elem = next((e for e in elems if \"Next\" in e.text), elems[0])\n",
    "                if(\"Next\" not in elem.text): break\n",
    "                elem.click()\n",
    "                time.sleep(3)\n",
    "        except:\n",
    "            elems = driver.find_elements(By.CLASS_NAME, \"cds-tab-wrapper\")\n",
    "            elems[2].click()\n",
    "            elems = driver.find_element(By.CLASS_NAME, \"cds-4.css-0.cds-6.cds-grid-item\")\n",
    "            links = elems.find_elements(By.TAG_NAME, \"a\")\n",
    "            download_links = []\n",
    "            type = [\"mp4\", \"WebVTT\", \"txt\"]\n",
    "            for link in links:\n",
    "                if any(sub in link.text for sub in type):\n",
    "                    download_links.append(link.get_attribute(\"href\"))\n",
    "            qualities = {\"360p\": 360, \"480p\": 480, \"720p\": 720, \"1080p\": 1080}\n",
    "            best_quality = max((resolution for link in download_links for quality, resolution in qualities.items() if quality in link), default=0)\n",
    "\n",
    "            download_links = [link for link in download_links if not any(quality in link and resolution < best_quality for quality, resolution in qualities.items())]\n",
    "\n",
    "            for url in download_links:\n",
    "                if \"mp4\" in url:\n",
    "                    download_file(url, f\"{LESSON}.mp4\", PATH)\n",
    "                elif \"vtt\" in url:\n",
    "                    download_file(url, \"Subtitle.vtt\", PATH)\n",
    "                elif \"txt\" in url:\n",
    "                    download_file(url, \"Transcript.txt\", PATH)\n",
    "            elems = driver.find_elements(By.CLASS_NAME, \"cds-button-label\")\n",
    "            elem = next((e for e in elems if \"Next\" in e.text), elems[0])\n",
    "            elem.click()\n",
    "            time.sleep(3)\n",
    "    print('Đã tìm hết tất cả các trang!')\n",
    "except NoSuchElementException:\n",
    "    print('Đã tìm hết tất cả các trang!')"
   ]
  },
  {
   "cell_type": "code",
   "execution_count": null,
   "metadata": {},
   "outputs": [],
   "source": [
    "# # PDF\n",
    "# elem = driver.find_element(By.CLASS_NAME, \"rc-CML\")\n",
    "# link = elem.find_element(By.TAG_NAME, \"a\").get_attribute(\"href\")\n",
    "\n",
    "# download_file(link, \"lab.pdf\")\n"
   ]
  },
  {
   "cell_type": "code",
   "execution_count": null,
   "metadata": {},
   "outputs": [],
   "source": [
    "# # Video\n",
    "# elems = driver.find_elements(By.CLASS_NAME, \"cds-tab-wrapper\")\n",
    "# elems[2].click()\n",
    "# elems = driver.find_element(By.CLASS_NAME, \"cds-4.css-0.cds-6.cds-grid-item\")\n",
    "# links = elems.find_elements(By.TAG_NAME, \"a\")\n",
    "# download_links = []\n",
    "# name = []\n",
    "# type = [\"mp4\", \"WebVTT\", \"txt\"]\n",
    "# for link in links:\n",
    "#     if any(sub in link.text for sub in type):\n",
    "#         download_links.append(link.get_attribute(\"href\"))\n",
    "#         # download_links.append(link)\n",
    "# download_links"
   ]
  },
  {
   "cell_type": "code",
   "execution_count": null,
   "metadata": {},
   "outputs": [],
   "source": [
    "# qualities = {\"360p\": 360, \"480p\": 480, \"720p\": 720, \"1080p\": 1080}\n",
    "# best_quality = max((resolution for link in download_links for quality, resolution in qualities.items() if quality in link), default=0)\n",
    "\n",
    "# download_links = [link for link in download_links if not any(quality in link and resolution < best_quality for quality, resolution in qualities.items())]\n",
    "# print(best_quality)\n",
    "# download_links\n"
   ]
  },
  {
   "cell_type": "code",
   "execution_count": null,
   "metadata": {},
   "outputs": [],
   "source": [
    "# def download_file(url, file_name):\n",
    "#     if not os.path.exists(PATH):\n",
    "#         os.makedirs(PATH)\n",
    "    \n",
    "#     file_path = os.path.join(PATH, file_name)\n",
    "#     response = requests.get(url, stream=\"mp4\" in url)\n",
    "    \n",
    "#     if response.status_code == 200:\n",
    "#         mode = \"wb\"\n",
    "#         with open(file_path, mode) as file:\n",
    "#             if \"mp4\" in url:\n",
    "#                 for chunk in response.iter_content(chunk_size=1024):\n",
    "#                     if chunk:\n",
    "#                         file.write(chunk)\n",
    "#             else:\n",
    "#                 file.write(response.content)\n",
    "#         print(f\"Tải xuống thành công tại: {file_path}\")\n",
    "#     else:\n",
    "#         print(f\"Không thể tải xuống file. Lỗi HTTP {response.status_code}\")\n",
    "\n",
    "# for url in download_links:\n",
    "#     if \"mp4\" in url:\n",
    "#         download_file(url, f\"{LESSON}.mp4\")\n",
    "#     elif \"vtt\" in url:\n",
    "#         download_file(url, \"Subtitle.vtt\")\n",
    "#     elif \"txt\" in url:\n",
    "#         download_file(url, \"Transcript.txt\")\n"
   ]
  },
  {
   "cell_type": "code",
   "execution_count": 21,
   "metadata": {},
   "outputs": [],
   "source": [
    "# elems = driver.find_elements(By.CLASS_NAME, \"cds-button-label\")\n",
    "# elem = next((e for e in elems if \"Next\" in e.text), elems[0])\n",
    "# elem.click()\n"
   ]
  },
  {
   "cell_type": "code",
   "execution_count": 38,
   "metadata": {},
   "outputs": [],
   "source": [
    "# download_html(\"https://www.coursera.org/learn/agile-atlassian-jira/supplement/Oy2DU/welcome\", \"i.html\", \"C:\\\\Users\\\\victo\\\\Downloads\\\\Coursera\")"
   ]
  },
  {
   "cell_type": "code",
   "execution_count": null,
   "metadata": {},
   "outputs": [],
   "source": [
    "# css_links = driver.find_elements(By.TAG_NAME, \"link\")\n",
    "# for link in css_links:\n",
    "#     href = link.get_attribute(\"href\")\n",
    "#     print(href)\n",
    "#     if href and \"css\" in href:\n",
    "#         css_content = driver.execute_script(\"return fetch(arguments[0]).then(response => response.text());\", href)\n",
    "#         css_file_name = href.split(\"/\")[-1]\n",
    "#         css_file_path = os.path.join(\"C:\\\\Users\\\\victo\\\\Downloads\\\\Coursera\", css_file_name)\n",
    "#         with open(css_file_path, \"w\", encoding=\"utf-8\") as file:\n",
    "#             file.write(css_content)\n"
   ]
  },
  {
   "cell_type": "code",
   "execution_count": null,
   "metadata": {},
   "outputs": [],
   "source": [
    "# elem = driver.find_element(By.CLASS_NAME, \"item-page-content\")\n",
    "# print(elem.text)\n",
    "# link = elem.find_element(By.TAG_NAME, \"a\").get_attribute(\"href\")\n",
    "# link"
   ]
  }
 ],
 "metadata": {
  "kernelspec": {
   "display_name": "Python 3",
   "language": "python",
   "name": "python3"
  },
  "language_info": {
   "codemirror_mode": {
    "name": "ipython",
    "version": 3
   },
   "file_extension": ".py",
   "mimetype": "text/x-python",
   "name": "python",
   "nbconvert_exporter": "python",
   "pygments_lexer": "ipython3",
   "version": "3.12.5"
  }
 },
 "nbformat": 4,
 "nbformat_minor": 2
}
